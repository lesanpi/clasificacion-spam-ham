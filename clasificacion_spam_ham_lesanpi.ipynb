{
  "nbformat": 4,
  "nbformat_minor": 0,
  "metadata": {
    "colab": {
      "name": "clasificacion-spam-ham-lesanpi.ipynb",
      "provenance": [],
      "authorship_tag": "ABX9TyPJHVrJVusCgqTxCFQm4jw8",
      "include_colab_link": true
    },
    "kernelspec": {
      "name": "python3",
      "display_name": "Python 3"
    }
  },
  "cells": [
    {
      "cell_type": "markdown",
      "metadata": {
        "id": "view-in-github",
        "colab_type": "text"
      },
      "source": [
        "<a href=\"https://colab.research.google.com/github/lesanpi/clasificacion-spam-ham/blob/master/clasificacion_spam_ham_lesanpi.ipynb\" target=\"_parent\"><img src=\"https://colab.research.google.com/assets/colab-badge.svg\" alt=\"Open In Colab\"/></a>"
      ]
    },
    {
      "cell_type": "markdown",
      "metadata": {
        "id": "NKuV57RmnJa-",
        "colab_type": "text"
      },
      "source": [
        "# **Clasificacion Spam o Ham.**"
      ]
    },
    {
      "cell_type": "markdown",
      "metadata": {
        "id": "oBISJcwjnQJr",
        "colab_type": "text"
      },
      "source": [
        "# **Importamos el dataset, pandas, numpy, nltk, random**\n",
        "\n",
        "Tambien descargamos punkt, el tokenizador."
      ]
    },
    {
      "cell_type": "code",
      "metadata": {
        "id": "4XD5J3QRYs_r",
        "colab_type": "code",
        "colab": {
          "base_uri": "https://localhost:8080/",
          "height": 85
        },
        "outputId": "95723426-e7aa-42a3-b906-8bf5f984e042"
      },
      "source": [
        "!git clone https://github.com/pachocamacho1990/datasets"
      ],
      "execution_count": 1,
      "outputs": [
        {
          "output_type": "stream",
          "text": [
            "Cloning into 'datasets'...\n",
            "remote: Enumerating objects: 39, done.\u001b[K\n",
            "remote: Total 39 (delta 0), reused 0 (delta 0), pack-reused 39\u001b[K\n",
            "Unpacking objects: 100% (39/39), done.\n"
          ],
          "name": "stdout"
        }
      ]
    },
    {
      "cell_type": "code",
      "metadata": {
        "id": "GEZ8BizcY9xf",
        "colab_type": "code",
        "colab": {
          "base_uri": "https://localhost:8080/",
          "height": 102
        },
        "outputId": "591521c6-c346-44cd-b1d0-ede3ffbfa98b"
      },
      "source": [
        "import pandas as pd\n",
        "import numpy as np\n",
        "import nltk, random\n",
        "nltk.download('punkt')\n",
        "nltk.download('averaged_perceptron_tagger')\n",
        "from nltk import word_tokenize"
      ],
      "execution_count": 3,
      "outputs": [
        {
          "output_type": "stream",
          "text": [
            "[nltk_data] Downloading package punkt to /root/nltk_data...\n",
            "[nltk_data]   Unzipping tokenizers/punkt.zip.\n",
            "[nltk_data] Downloading package averaged_perceptron_tagger to\n",
            "[nltk_data]     /root/nltk_data...\n",
            "[nltk_data]   Unzipping taggers/averaged_perceptron_tagger.zip.\n"
          ],
          "name": "stdout"
        }
      ]
    },
    {
      "cell_type": "code",
      "metadata": {
        "id": "JZPBcDSHaLf6",
        "colab_type": "code",
        "colab": {
          "base_uri": "https://localhost:8080/",
          "height": 204
        },
        "outputId": "b595b968-88f8-4aa1-e75e-5fce619f3137"
      },
      "source": [
        "df = pd.read_csv('datasets/email/csv/spam-apache.csv', names = ['clase','contenido'])\n",
        "df['tokens'] = df['contenido'].apply(lambda x: word_tokenize(x))\n",
        "df.head()"
      ],
      "execution_count": 4,
      "outputs": [
        {
          "output_type": "execute_result",
          "data": {
            "text/html": [
              "<div>\n",
              "<style scoped>\n",
              "    .dataframe tbody tr th:only-of-type {\n",
              "        vertical-align: middle;\n",
              "    }\n",
              "\n",
              "    .dataframe tbody tr th {\n",
              "        vertical-align: top;\n",
              "    }\n",
              "\n",
              "    .dataframe thead th {\n",
              "        text-align: right;\n",
              "    }\n",
              "</style>\n",
              "<table border=\"1\" class=\"dataframe\">\n",
              "  <thead>\n",
              "    <tr style=\"text-align: right;\">\n",
              "      <th></th>\n",
              "      <th>clase</th>\n",
              "      <th>contenido</th>\n",
              "      <th>tokens</th>\n",
              "    </tr>\n",
              "  </thead>\n",
              "  <tbody>\n",
              "    <tr>\n",
              "      <th>0</th>\n",
              "      <td>-1</td>\n",
              "      <td>&lt;!DOCTYPE HTML PUBLIC \"-//W3C//DTD HTML 4.0 Tr...</td>\n",
              "      <td>[&lt;, !, DOCTYPE, HTML, PUBLIC, ``, -//W3C//DTD,...</td>\n",
              "    </tr>\n",
              "    <tr>\n",
              "      <th>1</th>\n",
              "      <td>1</td>\n",
              "      <td>&gt; Russell Turpin:\\n&gt; &gt; That depends on how the...</td>\n",
              "      <td>[&gt;, Russell, Turpin, :, &gt;, &gt;, That, depends, o...</td>\n",
              "    </tr>\n",
              "    <tr>\n",
              "      <th>2</th>\n",
              "      <td>-1</td>\n",
              "      <td>Help wanted.  We are a 14 year old fortune 500...</td>\n",
              "      <td>[Help, wanted, ., We, are, a, 14, year, old, f...</td>\n",
              "    </tr>\n",
              "    <tr>\n",
              "      <th>3</th>\n",
              "      <td>-1</td>\n",
              "      <td>Request A Free No Obligation Consultation!\\nAc...</td>\n",
              "      <td>[Request, A, Free, No, Obligation, Consultatio...</td>\n",
              "    </tr>\n",
              "    <tr>\n",
              "      <th>4</th>\n",
              "      <td>1</td>\n",
              "      <td>Is there a way to look for a particular file o...</td>\n",
              "      <td>[Is, there, a, way, to, look, for, a, particul...</td>\n",
              "    </tr>\n",
              "  </tbody>\n",
              "</table>\n",
              "</div>"
            ],
            "text/plain": [
              "   clase  ...                                             tokens\n",
              "0     -1  ...  [<, !, DOCTYPE, HTML, PUBLIC, ``, -//W3C//DTD,...\n",
              "1      1  ...  [>, Russell, Turpin, :, >, >, That, depends, o...\n",
              "2     -1  ...  [Help, wanted, ., We, are, a, 14, year, old, f...\n",
              "3     -1  ...  [Request, A, Free, No, Obligation, Consultatio...\n",
              "4      1  ...  [Is, there, a, way, to, look, for, a, particul...\n",
              "\n",
              "[5 rows x 3 columns]"
            ]
          },
          "metadata": {
            "tags": []
          },
          "execution_count": 4
        }
      ]
    },
    {
      "cell_type": "markdown",
      "metadata": {
        "id": "nzAGO2hxne8Y",
        "colab_type": "text"
      },
      "source": [
        "Leemos el dataset, y analizamos la clase spam (-1) y sus tokens. Podemos ver cuales son las palabras mas comunes que pertenezcan a la clase -1."
      ]
    },
    {
      "cell_type": "code",
      "metadata": {
        "id": "sl0fOiGqaYJ3",
        "colab_type": "code",
        "colab": {
          "base_uri": "https://localhost:8080/",
          "height": 204
        },
        "outputId": "f9fa726b-071d-4a4c-88d2-bec4964fd9f8"
      },
      "source": [
        "df_spam = df[df[\"clase\"] == -1]\n",
        "df_spam.head()"
      ],
      "execution_count": 7,
      "outputs": [
        {
          "output_type": "execute_result",
          "data": {
            "text/html": [
              "<div>\n",
              "<style scoped>\n",
              "    .dataframe tbody tr th:only-of-type {\n",
              "        vertical-align: middle;\n",
              "    }\n",
              "\n",
              "    .dataframe tbody tr th {\n",
              "        vertical-align: top;\n",
              "    }\n",
              "\n",
              "    .dataframe thead th {\n",
              "        text-align: right;\n",
              "    }\n",
              "</style>\n",
              "<table border=\"1\" class=\"dataframe\">\n",
              "  <thead>\n",
              "    <tr style=\"text-align: right;\">\n",
              "      <th></th>\n",
              "      <th>clase</th>\n",
              "      <th>contenido</th>\n",
              "      <th>tokens</th>\n",
              "    </tr>\n",
              "  </thead>\n",
              "  <tbody>\n",
              "    <tr>\n",
              "      <th>0</th>\n",
              "      <td>-1</td>\n",
              "      <td>&lt;!DOCTYPE HTML PUBLIC \"-//W3C//DTD HTML 4.0 Tr...</td>\n",
              "      <td>[&lt;, !, DOCTYPE, HTML, PUBLIC, ``, -//W3C//DTD,...</td>\n",
              "    </tr>\n",
              "    <tr>\n",
              "      <th>2</th>\n",
              "      <td>-1</td>\n",
              "      <td>Help wanted.  We are a 14 year old fortune 500...</td>\n",
              "      <td>[Help, wanted, ., We, are, a, 14, year, old, f...</td>\n",
              "    </tr>\n",
              "    <tr>\n",
              "      <th>3</th>\n",
              "      <td>-1</td>\n",
              "      <td>Request A Free No Obligation Consultation!\\nAc...</td>\n",
              "      <td>[Request, A, Free, No, Obligation, Consultatio...</td>\n",
              "    </tr>\n",
              "    <tr>\n",
              "      <th>10</th>\n",
              "      <td>-1</td>\n",
              "      <td>&gt;\\n&gt;“µ×è¹µÑÇ ¡ÑºâÅ¡¸ØÃ¡Ô¨º¹ÍÔ¹àµÍÃìà¹çµ” \\n&gt;àµ...</td>\n",
              "      <td>[&gt;, &gt;, “, µ×è¹µÑÇ, ¡ÑºâÅ¡¸ØÃ¡Ô¨º¹ÍÔ¹àµÍÃìà¹çµ,...</td>\n",
              "    </tr>\n",
              "    <tr>\n",
              "      <th>11</th>\n",
              "      <td>-1</td>\n",
              "      <td>==============================================...</td>\n",
              "      <td>[=============================================...</td>\n",
              "    </tr>\n",
              "  </tbody>\n",
              "</table>\n",
              "</div>"
            ],
            "text/plain": [
              "    clase  ...                                             tokens\n",
              "0      -1  ...  [<, !, DOCTYPE, HTML, PUBLIC, ``, -//W3C//DTD,...\n",
              "2      -1  ...  [Help, wanted, ., We, are, a, 14, year, old, f...\n",
              "3      -1  ...  [Request, A, Free, No, Obligation, Consultatio...\n",
              "10     -1  ...  [>, >, “, µ×è¹µÑÇ, ¡ÑºâÅ¡¸ØÃ¡Ô¨º¹ÍÔ¹àµÍÃìà¹çµ,...\n",
              "11     -1  ...  [=============================================...\n",
              "\n",
              "[5 rows x 3 columns]"
            ]
          },
          "metadata": {
            "tags": []
          },
          "execution_count": 7
        }
      ]
    },
    {
      "cell_type": "markdown",
      "metadata": {
        "id": "3FS6f-5LrKDA",
        "colab_type": "text"
      },
      "source": [
        "Podemos ver las palabras y con que frecuencia aparecen en cada dataset."
      ]
    },
    {
      "cell_type": "code",
      "metadata": {
        "id": "VIvrr8yJaoMp",
        "colab_type": "code",
        "colab": {}
      },
      "source": [
        "spam_words = nltk.FreqDist([w for tokenlist in df_spam['tokens'].values for w in tokenlist])\n",
        "top_spam_words = spam_words.most_common(200)\n",
        "top_spam_words[:20]"
      ],
      "execution_count": null,
      "outputs": []
    },
    {
      "cell_type": "code",
      "metadata": {
        "id": "ETup1IvTbA1Z",
        "colab_type": "code",
        "colab": {}
      },
      "source": [
        "all_words = nltk.FreqDist([w for tokenlist in df['tokens'].values for w in tokenlist])\n",
        "top_words = all_words.most_common(200)\n",
        "top_words[:20]"
      ],
      "execution_count": null,
      "outputs": []
    },
    {
      "cell_type": "markdown",
      "metadata": {
        "id": "8zEjxtzlnzEG",
        "colab_type": "text"
      },
      "source": [
        "Podemos ver la lista de palabras mas comunes del dataset de spam."
      ]
    },
    {
      "cell_type": "code",
      "metadata": {
        "id": "yTuYlM5kbRa4",
        "colab_type": "code",
        "colab": {}
      },
      "source": [
        "spam_words_list = [w for (w, c) in top_spam_words]\n",
        "top_words_list = [tw for (tw, cw) in top_words]\n",
        "\n",
        "spam_words_list"
      ],
      "execution_count": null,
      "outputs": []
    },
    {
      "cell_type": "markdown",
      "metadata": {
        "id": "wu9POxh8rZFD",
        "colab_type": "text"
      },
      "source": [
        "Podemos ver si las clases estan balanceadas utilizando hist. "
      ]
    },
    {
      "cell_type": "code",
      "metadata": {
        "id": "33viqg-FdfZz",
        "colab_type": "code",
        "colab": {
          "base_uri": "https://localhost:8080/",
          "height": 282
        },
        "outputId": "2f10e3dd-645e-494c-cd2b-f2f59c059427"
      },
      "source": [
        "df['clase'].hist()"
      ],
      "execution_count": 30,
      "outputs": [
        {
          "output_type": "execute_result",
          "data": {
            "text/plain": [
              "<matplotlib.axes._subplots.AxesSubplot at 0x7fa6bb7d0cc0>"
            ]
          },
          "metadata": {
            "tags": []
          },
          "execution_count": 30
        },
        {
          "output_type": "display_data",
          "data": {
            "image/png": "[encoded data removed]",
            "text/plain": [
              "<Figure size 432x288 with 1 Axes>"
            ]
          },
          "metadata": {
            "tags": [],
            "needs_background": "light"
          }
        }
      ]
    },
    {
      "cell_type": "code",
      "metadata": {
        "id": "mYm5aWIZducO",
        "colab_type": "code",
        "colab": {
          "base_uri": "https://localhost:8080/",
          "height": 34
        },
        "outputId": "0e50809f-96b4-4878-d958-988d1947b171"
      },
      "source": [
        "len(spam_words_list)"
      ],
      "execution_count": 69,
      "outputs": [
        {
          "output_type": "execute_result",
          "data": {
            "text/plain": [
              "200"
            ]
          },
          "metadata": {
            "tags": []
          },
          "execution_count": 69
        }
      ]
    },
    {
      "cell_type": "markdown",
      "metadata": {
        "id": "RO6OFoCJrgQ5",
        "colab_type": "text"
      },
      "source": [
        "# **Atributos**\n",
        "\n",
        "En el ejercicio, podemos ver que usando las 200 palabras mas comunes del dataset tenia un rendimiento muy bajo. Ahora utilizamos las palabras mas comunes de los clasificados como spam y tambien indicamos otro campo que es la longitud del texto."
      ]
    },
    {
      "cell_type": "code",
      "metadata": {
        "id": "eFZiX4o0ePXa",
        "colab_type": "code",
        "colab": {}
      },
      "source": [
        "def document_features(document):\n",
        "    document_words = set(document)\n",
        "    features = {}\n",
        "    features['longitud'] = len(document)\n",
        "    #for word in top_words:\n",
        "    for word in spam_words_list:\n",
        "        features['contains({})'.format(word)] = (word in document_words)\n",
        "    return features"
      ],
      "execution_count": 44,
      "outputs": []
    },
    {
      "cell_type": "code",
      "metadata": {
        "id": "gWwgOW8NfH16",
        "colab_type": "code",
        "colab": {
          "base_uri": "https://localhost:8080/",
          "height": 34
        },
        "outputId": "621c15d7-007a-4503-a992-1b08c15f2818"
      },
      "source": [
        "fset = [(document_features(texto), clase) for texto, clase in zip(df['tokens'].values, df['clase'].values)]\n",
        "random.shuffle(fset)\n",
        "print(len(fset))\n",
        "train, test = fset[:200], fset[100:]"
      ],
      "execution_count": 80,
      "outputs": [
        {
          "output_type": "stream",
          "text": [
            "250\n"
          ],
          "name": "stdout"
        }
      ]
    },
    {
      "cell_type": "markdown",
      "metadata": {
        "id": "fo45MApXrz86",
        "colab_type": "text"
      },
      "source": [
        "# **Entrenamiento y Accuracy**\n",
        "\n",
        "Podemos ver que ahora utilizando los atributos que refieren a las palabras mas comunes que son spam aumentara al acierto, tambien agregando otro dato: La longitud del texto. \n",
        "\n",
        "**Resultado: 0.96.**"
      ]
    },
    {
      "cell_type": "code",
      "metadata": {
        "id": "7sgTOWQwfzmw",
        "colab_type": "code",
        "colab": {}
      },
      "source": [
        "classifier = nltk.NaiveBayesClassifier.train(train)"
      ],
      "execution_count": 81,
      "outputs": []
    },
    {
      "cell_type": "code",
      "metadata": {
        "id": "b2cZMir8f1Jp",
        "colab_type": "code",
        "colab": {
          "base_uri": "https://localhost:8080/",
          "height": 34
        },
        "outputId": "b1fd0ac5-6617-476a-9a0e-d9d801e32440"
      },
      "source": [
        "print(nltk.classify.accuracy(classifier, test))"
      ],
      "execution_count": 82,
      "outputs": [
        {
          "output_type": "stream",
          "text": [
            "0.96\n"
          ],
          "name": "stdout"
        }
      ]
    }
  ]
}